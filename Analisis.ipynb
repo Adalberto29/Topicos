{
 "cells": [
  {
   "cell_type": "code",
   "execution_count": 1,
   "metadata": {},
   "outputs": [],
   "source": [
    "%config IPCompleter.greedy=True"
   ]
  },
  {
   "cell_type": "markdown",
   "metadata": {},
   "source": [
    "# Creación de Catalogo"
   ]
  },
  {
   "cell_type": "markdown",
   "metadata": {},
   "source": [
    "Se tomara un archivo de excel previamente tratado y se guardara en una base de datos<br>\n",
    "El Archivo tendra las siguientes columnas:\n",
    "<ol>\n",
    "    <li>Nombre.</li>\n",
    "    <li>Latitud(en formato decimal)</li>\n",
    "    <li>Lonigtud(en formato decimal)</li>\n",
    "</ol>"
   ]
  },
  {
   "cell_type": "code",
   "execution_count": 18,
   "metadata": {},
   "outputs": [],
   "source": [
    "#Bibliotecas que se usaran.\n",
    "import pandas as pd\n",
    "import glob\n",
    "import pyodbc\n",
    "import sqlalchemy"
   ]
  },
  {
   "cell_type": "code",
   "execution_count": 3,
   "metadata": {},
   "outputs": [],
   "source": [
    "#Funcion que nos dara todas rutas de los archivos contenidas dentro de una ruta especificada.\n",
    "from os import scandir, getcwd\n",
    "\n",
    "def ls(ruta = getcwd()):\n",
    "    return [arch.name for arch in scandir(ruta) if arch.is_file()]"
   ]
  },
  {
   "cell_type": "code",
   "execution_count": 39,
   "metadata": {},
   "outputs": [],
   "source": [
    "#Leemos el archivo excel que contiene la tabla catalogo\n",
    "df = pd.read_excel(\"Catalogo.xlsx\")\n",
    "#Nos deshacemos la columna index que del dataframe que tambien se guardo en el excel.\n",
    "df = df.drop(['Unnamed: 0'], axis=1)\n",
    "#Se crea un nuevo dataframe con los id a usar y se agregan las columnas indicadas con los nuevos nombres.\n",
    "catalogo = pd.DataFrame({'id': list(range(1,df.size))})\n",
    "catalogo[['nombre','latitud','longitud']] = df[['Nombre Completo','Latitud N', 'Longitud W']]"
   ]
  },
  {
   "cell_type": "code",
   "execution_count": 40,
   "metadata": {},
   "outputs": [
    {
     "data": {
      "text/html": [
       "<div>\n",
       "<style scoped>\n",
       "    .dataframe tbody tr th:only-of-type {\n",
       "        vertical-align: middle;\n",
       "    }\n",
       "\n",
       "    .dataframe tbody tr th {\n",
       "        vertical-align: top;\n",
       "    }\n",
       "\n",
       "    .dataframe thead th {\n",
       "        text-align: right;\n",
       "    }\n",
       "</style>\n",
       "<table border=\"1\" class=\"dataframe\">\n",
       "  <thead>\n",
       "    <tr style=\"text-align: right;\">\n",
       "      <th></th>\n",
       "      <th>id</th>\n",
       "      <th>nombre</th>\n",
       "      <th>latitud</th>\n",
       "      <th>longitud</th>\n",
       "    </tr>\n",
       "  </thead>\n",
       "  <tbody>\n",
       "    <tr>\n",
       "      <th>0</th>\n",
       "      <td>1</td>\n",
       "      <td>CALVILLO, AGUASCALIENTES</td>\n",
       "      <td>21.849444</td>\n",
       "      <td>-102.712222</td>\n",
       "    </tr>\n",
       "    <tr>\n",
       "      <th>1</th>\n",
       "      <td>2</td>\n",
       "      <td>PRESA 50 ANIV. , AGUASCALIENTES</td>\n",
       "      <td>22.189306</td>\n",
       "      <td>-102.464972</td>\n",
       "    </tr>\n",
       "    <tr>\n",
       "      <th>2</th>\n",
       "      <td>3</td>\n",
       "      <td>SIERRA FRIA, AGUASCALIENTES</td>\n",
       "      <td>22.269778</td>\n",
       "      <td>-102.608778</td>\n",
       "    </tr>\n",
       "    <tr>\n",
       "      <th>3</th>\n",
       "      <td>4</td>\n",
       "      <td>BAHÍA DE LOS ANGELES, BAJA CALIFORNIA</td>\n",
       "      <td>28.896389</td>\n",
       "      <td>-113.560278</td>\n",
       "    </tr>\n",
       "    <tr>\n",
       "      <th>4</th>\n",
       "      <td>5</td>\n",
       "      <td>CATAVIÑA, BAJA CALIFORNIA</td>\n",
       "      <td>29.727222</td>\n",
       "      <td>-114.719167</td>\n",
       "    </tr>\n",
       "  </tbody>\n",
       "</table>\n",
       "</div>"
      ],
      "text/plain": [
       "   id                                 nombre    latitud    longitud\n",
       "0   1               CALVILLO, AGUASCALIENTES  21.849444 -102.712222\n",
       "1   2        PRESA 50 ANIV. , AGUASCALIENTES  22.189306 -102.464972\n",
       "2   3            SIERRA FRIA, AGUASCALIENTES  22.269778 -102.608778\n",
       "3   4  BAHÍA DE LOS ANGELES, BAJA CALIFORNIA  28.896389 -113.560278\n",
       "4   5              CATAVIÑA, BAJA CALIFORNIA  29.727222 -114.719167"
      ]
     },
     "execution_count": 40,
     "metadata": {},
     "output_type": "execute_result"
    }
   ],
   "source": [
    "catalogo.head()"
   ]
  },
  {
   "cell_type": "code",
   "execution_count": 11,
   "metadata": {},
   "outputs": [],
   "source": [
    "#Se crea una ruta de conexion a la base de datos llamada clima, la cual se encuentra en el servidor DESKTOP-HQI9VLS\n",
    "#Utilizamos la autentificacion de windows para conectarnos a este.\n",
    "server = 'DESKTOP-HQI9VLS'\n",
    "database = 'clima'\n",
    "engine = sqlalchemy.create_engine('mssql+pyodbc://'+server+'/'+database+'?trusted_connection=yes&driver=SQL+Server')"
   ]
  },
  {
   "cell_type": "code",
   "execution_count": 50,
   "metadata": {},
   "outputs": [],
   "source": [
    "#importamos los tipos para no tener para facilitar su uso\n",
    "from sqlalchemy.types import VARCHAR,Float,Integer"
   ]
  },
  {
   "cell_type": "code",
   "execution_count": 51,
   "metadata": {
    "scrolled": true
   },
   "outputs": [],
   "source": [
    "#Utilizando el metodo to_sql guardamos el contenido del DataFrame utilizando la ruta a la base de datos que se creo anteriormente\n",
    "#Solo especificamos el tipo para nombre, de lo contrario se guardara como varchar(max), los demas los guarda\n",
    "#de acuerdo con el tipo que tiene en el dataframe\n",
    "catalogo.to_sql(name='Catalogo', \n",
    "                con = engine, \n",
    "                index=False, \n",
    "                if_exists= 'replace',\n",
    "                dtype= {'nombre' : VARCHAR(length=255)})\n",
    "#Se especifica que la columna id sea NOT NULL para despues usarla como llave primaria\n",
    "with engine.connect() as con:\n",
    "    con.execute('ALTER TABLE Catalogo alter column id int NOT NULL;')\n",
    "    con.execute('ALTER TABLE Catalogo ADD PRIMARY KEY (id);')\n"
   ]
  },
  {
   "cell_type": "markdown",
   "metadata": {},
   "source": [
    "## Guardado de una archivo excel a una tabla"
   ]
  },
  {
   "cell_type": "markdown",
   "metadata": {},
   "source": [
    "<ul>\n",
    "    <li>Se leera un archivo de excel</li>\n",
    "    <li>Se identificara el id del nombre de la estacion. Para esto se hara una consulta a la base de datos</li>\n",
    "    <li>Se reemplaza la columna \"nombre_estacion\" por una que tendra el id correspondiente</li>\n",
    "    <li>Se guardara la tabla en la base de datos</li>\n",
    "</ul>"
   ]
  },
  {
   "cell_type": "code",
   "execution_count": 104,
   "metadata": {},
   "outputs": [],
   "source": [
    "#Biblioteca que se usara para hacer match entre palabras\n",
    "from fuzzywuzzy import process"
   ]
  },
  {
   "cell_type": "code",
   "execution_count": 109,
   "metadata": {
    "scrolled": true
   },
   "outputs": [],
   "source": [
    "#Obtenemos las rutas de los archivos xls y creamos un dataframe para guardarlas\n",
    "\n",
    "#Esta ya no se hace\n",
    "rutas = []\n",
    "for i in glob.glob(\"Puebla/*.xls\"):\n",
    "    rutas.append(i)\n",
    "datos = {'Rutas' : rutas}\n",
    "rutas = pd.DataFrame(datos)\n",
    "rutas.to_csv(\"Rutas - faltantes.csv\")"
   ]
  },
  {
   "cell_type": "code",
   "execution_count": 110,
   "metadata": {
    "scrolled": true
   },
   "outputs": [
    {
     "data": {
      "text/html": [
       "<div>\n",
       "<style scoped>\n",
       "    .dataframe tbody tr th:only-of-type {\n",
       "        vertical-align: middle;\n",
       "    }\n",
       "\n",
       "    .dataframe tbody tr th {\n",
       "        vertical-align: top;\n",
       "    }\n",
       "\n",
       "    .dataframe thead th {\n",
       "        text-align: right;\n",
       "    }\n",
       "</style>\n",
       "<table border=\"1\" class=\"dataframe\">\n",
       "  <thead>\n",
       "    <tr style=\"text-align: right;\">\n",
       "      <th></th>\n",
       "      <th>Rutas</th>\n",
       "    </tr>\n",
       "  </thead>\n",
       "  <tbody>\n",
       "    <tr>\n",
       "      <th>0</th>\n",
       "      <td>Puebla\\acapo f13.xls</td>\n",
       "    </tr>\n",
       "    <tr>\n",
       "      <th>1</th>\n",
       "      <td>Puebla\\huauchi ab14.xls</td>\n",
       "    </tr>\n",
       "    <tr>\n",
       "      <th>2</th>\n",
       "      <td>Puebla\\huauchi ab15.xls</td>\n",
       "    </tr>\n",
       "    <tr>\n",
       "      <th>3</th>\n",
       "      <td>Puebla\\huauchi ag14.xls</td>\n",
       "    </tr>\n",
       "    <tr>\n",
       "      <th>4</th>\n",
       "      <td>Puebla\\huauchi d14.xls</td>\n",
       "    </tr>\n",
       "  </tbody>\n",
       "</table>\n",
       "</div>"
      ],
      "text/plain": [
       "                     Rutas\n",
       "0     Puebla\\acapo f13.xls\n",
       "1  Puebla\\huauchi ab14.xls\n",
       "2  Puebla\\huauchi ab15.xls\n",
       "3  Puebla\\huauchi ag14.xls\n",
       "4   Puebla\\huauchi d14.xls"
      ]
     },
     "execution_count": 110,
     "metadata": {},
     "output_type": "execute_result"
    }
   ],
   "source": [
    "#Leemos el archivo de rutas que faltan por agregar a la base de datos\n",
    "rutas = pd.read_csv(\"Rutas - faltantes.csv\")\n",
    "rutas = rutas.drop(['Unnamed: 0'], axis=1)\n",
    "rutas.head()"
   ]
  },
  {
   "cell_type": "code",
   "execution_count": 111,
   "metadata": {},
   "outputs": [],
   "source": [
    "#Leemos el archivo de rutas que faltan por agregar a la base de datos\n",
    "rutas = pd.read_csv(\"Rutas - faltantes.csv\")\n",
    "rutas = rutas.drop(['Unnamed: 0'], axis=1)\n",
    "#Obtenemos la primera ruta y lo eliminamos del DF\n",
    "r = rutas['Rutas'][0]\n",
    "rutas = rutas.drop(0, axis=0)\n",
    "#Se obitiene el catalogo\n",
    "catalogo = pd.read_sql(\"SELECT id,nombre from Catalogo\", con=engine)\n",
    "#Se pasa a una lista los nombres de las estaciones del catalogo\n",
    "listaNombres = catalogo['nombre'].values\n",
    "#Se abre el archivo de la ruta r\n",
    "datos = pd.read_excel(r)\n",
    "#Obtenemos el nombre de la estacion\n",
    "nombreEstacion = datos[\"nombre_estacion\"][0]\n",
    "#Buscamos la palabra(de listaNombres) con mas similitud a nombreEstacion y la guardamos en masALto\n",
    "masAlto, porcentaje = process.extractOne(nombreEstacion,listaNombres)\n",
    "#Consultamos su id y obtenemos su valor\n",
    "identificador = (catalogo[catalogo['nombre']==masAlto])['id'].values[0]\n",
    "#Creamos una columna id_estado donde guardaremos la variable identificador\n",
    "datos['id_estado'] = datos['nombre_estacion'].map(lambda x: identificador)\n",
    "#Eliminamos la columna nombre estacion\n",
    "datos = datos.drop(['nombre_estacion'], axis=1)\n",
    "#Ordenamos las columnas\n",
    "columnasOrdenadas = ['id_estado','fecha', 'DirViento', 'DirRafaga', 'RapViento', 'RapRafaga','TempAire', \n",
    "                     'HumRelativa', 'PresBarometric', 'Precipitacion', 'RadSolar']\n",
    "guardar = pd.DataFrame()\n",
    "guardar[columnasOrdenadas] = datos[columnasOrdenadas]\n",
    "#Guardamos a la base de datos\n",
    "guardar.to_sql(name='Datos', con = engine, index=False, if_exists= 'append')\n",
    "\n",
    "\n",
    "#Se guardan las rutas que faltan por agregar\n",
    "rutas.to_csv(\"Rutas - faltantes.csv\")\n",
    "\n",
    "#Si se quiere solo seleccionar algunas columnas para guardarlas en la base de datos se escifican en colBase\n",
    "#Y el nombre en el archivo de excel en colExcel\n",
    "#guardar = pd.DataFrame()\n",
    "#guardar['id_estado'] = datos['nombre_estacion'].map(lambda x: identificador)\n",
    "#colBase = ['Temperatura','Precipitacion','Humedad']\n",
    "#colExcel = ['TempAire','Precipitacion','HumRelativa']\n",
    "#guardar[colBase] = datos[colExcel]\n",
    "\n"
   ]
  },
  {
   "cell_type": "markdown",
   "metadata": {},
   "source": [
    "##  Match de palabras"
   ]
  },
  {
   "cell_type": "code",
   "execution_count": 99,
   "metadata": {},
   "outputs": [],
   "source": [
    "from fuzzywuzzy import process\n",
    "import pandas as pd"
   ]
  },
  {
   "cell_type": "code",
   "execution_count": 100,
   "metadata": {},
   "outputs": [],
   "source": [
    "#Se lee el archivo al que se quiere buscar las columnas\n",
    "df = pd.read_excel(\"Puebla\\huauchi ab14.xls\")\n",
    "df.head()"
   ]
  },
  {
   "cell_type": "code",
   "execution_count": 103,
   "metadata": {},
   "outputs": [
    {
     "data": {
      "text/html": [
       "<div>\n",
       "<style scoped>\n",
       "    .dataframe tbody tr th:only-of-type {\n",
       "        vertical-align: middle;\n",
       "    }\n",
       "\n",
       "    .dataframe tbody tr th {\n",
       "        vertical-align: top;\n",
       "    }\n",
       "\n",
       "    .dataframe thead th {\n",
       "        text-align: right;\n",
       "    }\n",
       "</style>\n",
       "<table border=\"1\" class=\"dataframe\">\n",
       "  <thead>\n",
       "    <tr style=\"text-align: right;\">\n",
       "      <th></th>\n",
       "      <th>HumRelativa</th>\n",
       "      <th>TempAire</th>\n",
       "      <th>Precipitacion</th>\n",
       "    </tr>\n",
       "  </thead>\n",
       "  <tbody>\n",
       "    <tr>\n",
       "      <th>0</th>\n",
       "      <td>70</td>\n",
       "      <td>23.2</td>\n",
       "      <td>0.0</td>\n",
       "    </tr>\n",
       "    <tr>\n",
       "      <th>1</th>\n",
       "      <td>72</td>\n",
       "      <td>22.7</td>\n",
       "      <td>0.0</td>\n",
       "    </tr>\n",
       "    <tr>\n",
       "      <th>2</th>\n",
       "      <td>73</td>\n",
       "      <td>22.3</td>\n",
       "      <td>0.0</td>\n",
       "    </tr>\n",
       "    <tr>\n",
       "      <th>3</th>\n",
       "      <td>74</td>\n",
       "      <td>21.8</td>\n",
       "      <td>0.0</td>\n",
       "    </tr>\n",
       "    <tr>\n",
       "      <th>4</th>\n",
       "      <td>75</td>\n",
       "      <td>21.3</td>\n",
       "      <td>0.0</td>\n",
       "    </tr>\n",
       "  </tbody>\n",
       "</table>\n",
       "</div>"
      ],
      "text/plain": [
       "   HumRelativa  TempAire  Precipitacion\n",
       "0           70      23.2            0.0\n",
       "1           72      22.7            0.0\n",
       "2           73      22.3            0.0\n",
       "3           74      21.8            0.0\n",
       "4           75      21.3            0.0"
      ]
     },
     "execution_count": 103,
     "metadata": {},
     "output_type": "execute_result"
    }
   ],
   "source": [
    "#Se crea una lista de palabras a buscar\n",
    "lista = ['HumRelativa', 'TempAire', 'Precipitacion']\n",
    "#Se obtine el nombre de las columnas en donde se quiere buscar\n",
    "listaColumnas = df.columns.values\n",
    "#variable en donde se guardara la palabra con mas parecido\n",
    "masParecido = []\n",
    "for i in lista:\n",
    "    masAlto, porcentaje = process.extractOne(i,listaColumnas)\n",
    "    masParecido.append(masAlto)\n",
    "#Se crea un dataFrame en donde solo seleccionamos las columnas cuyo nombre es mas parecido a la lista dada\n",
    "final = pd.DataFrame()\n",
    "final[lista] = df[masParecido]\n",
    "#Mostramos el resultado\n",
    "final.head()"
   ]
  },
  {
   "cell_type": "code",
   "execution_count": null,
   "metadata": {},
   "outputs": [],
   "source": []
  }
 ],
 "metadata": {
  "kernelspec": {
   "display_name": "Python 3",
   "language": "python",
   "name": "python3"
  },
  "language_info": {
   "codemirror_mode": {
    "name": "ipython",
    "version": 3
   },
   "file_extension": ".py",
   "mimetype": "text/x-python",
   "name": "python",
   "nbconvert_exporter": "python",
   "pygments_lexer": "ipython3",
   "version": "3.7.3"
  }
 },
 "nbformat": 4,
 "nbformat_minor": 2
}
