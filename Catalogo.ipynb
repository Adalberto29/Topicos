{
 "cells": [
  {
   "cell_type": "code",
   "execution_count": 1,
   "metadata": {},
   "outputs": [],
   "source": [
    "%config IPCompleter.greedy=True"
   ]
  },
  {
   "cell_type": "markdown",
   "metadata": {},
   "source": [
    "# Creación de Catalogo"
   ]
  },
  {
   "cell_type": "markdown",
   "metadata": {},
   "source": [
    "Se tomara un archivo de excel previamente tratado y se guardara en una base de datos<br>\n",
    "El Archivo tendra las siguientes columnas:\n",
    "<ol>\n",
    "    <li>Nombre.</li>\n",
    "    <li>Latitud(en formato decimal)</li>\n",
    "    <li>Lonigtud(en formato decimal)</li>\n",
    "</ol>"
   ]
  },
  {
   "cell_type": "code",
   "execution_count": 2,
   "metadata": {},
   "outputs": [],
   "source": [
    "#Bibliotecas que se usaran.\n",
    "import pandas as pd\n",
    "import glob\n",
    "import pyodbc\n",
    "import sqlalchemy"
   ]
  },
  {
   "cell_type": "code",
   "execution_count": 12,
   "metadata": {},
   "outputs": [],
   "source": [
    "#Leemos el archivo excel que contiene la tabla catalogo\n",
    "df = pd.read_excel(\"Catalogo.xlsx\")\n",
    "#Nos deshacemos la columna index que del dataframe que tambien se guardo en el excel.\n",
    "df = df.drop(['Unnamed: 0'], axis=1)\n",
    "#Se crea un nuevo dataframe con los id a usar y se agregan las columnas indicadas con los nuevos nombres.\n",
    "catalogo = pd.DataFrame({'id': list(range(1,df.size))})\n",
    "cols1 = ['EstadoUbicacion','NombreEstacion','latitudN','longitudW', 'Altitud', 'FechaInstalacion']\n",
    "cols2 =['ESTADO', 'NOMBRE','Latitud N', 'Longitud W','Altitud (m)','Instalación en sitio'] \n",
    "catalogo[cols1] = df[cols2]"
   ]
  },
  {
   "cell_type": "code",
   "execution_count": 13,
   "metadata": {},
   "outputs": [
    {
     "data": {
      "text/html": [
       "<div>\n",
       "<style scoped>\n",
       "    .dataframe tbody tr th:only-of-type {\n",
       "        vertical-align: middle;\n",
       "    }\n",
       "\n",
       "    .dataframe tbody tr th {\n",
       "        vertical-align: top;\n",
       "    }\n",
       "\n",
       "    .dataframe thead th {\n",
       "        text-align: right;\n",
       "    }\n",
       "</style>\n",
       "<table border=\"1\" class=\"dataframe\">\n",
       "  <thead>\n",
       "    <tr style=\"text-align: right;\">\n",
       "      <th></th>\n",
       "      <th>id</th>\n",
       "      <th>nombre</th>\n",
       "      <th>latitudN</th>\n",
       "      <th>longitudW</th>\n",
       "      <th>Altitud</th>\n",
       "      <th>FechaInstalacion</th>\n",
       "    </tr>\n",
       "  </thead>\n",
       "  <tbody>\n",
       "    <tr>\n",
       "      <th>0</th>\n",
       "      <td>1</td>\n",
       "      <td>CALVILLO, AGUASCALIENTES</td>\n",
       "      <td>21.849444</td>\n",
       "      <td>-102.712222</td>\n",
       "      <td>1618</td>\n",
       "      <td>2004-11-15</td>\n",
       "    </tr>\n",
       "    <tr>\n",
       "      <th>1</th>\n",
       "      <td>2</td>\n",
       "      <td>PRESA 50 ANIV. , AGUASCALIENTES</td>\n",
       "      <td>22.189306</td>\n",
       "      <td>-102.464972</td>\n",
       "      <td>2063.4</td>\n",
       "      <td>2012-12-05</td>\n",
       "    </tr>\n",
       "    <tr>\n",
       "      <th>2</th>\n",
       "      <td>3</td>\n",
       "      <td>SIERRA FRIA, AGUASCALIENTES</td>\n",
       "      <td>22.269778</td>\n",
       "      <td>-102.608778</td>\n",
       "      <td>2976.31</td>\n",
       "      <td>2012-12-08</td>\n",
       "    </tr>\n",
       "    <tr>\n",
       "      <th>3</th>\n",
       "      <td>4</td>\n",
       "      <td>BAHÍA DE LOS ANGELES, BAJA CALIFORNIA</td>\n",
       "      <td>28.896389</td>\n",
       "      <td>-113.560278</td>\n",
       "      <td>10</td>\n",
       "      <td>2000-04-06</td>\n",
       "    </tr>\n",
       "    <tr>\n",
       "      <th>4</th>\n",
       "      <td>5</td>\n",
       "      <td>CATAVIÑA, BAJA CALIFORNIA</td>\n",
       "      <td>29.727222</td>\n",
       "      <td>-114.719167</td>\n",
       "      <td>514</td>\n",
       "      <td>2004-11-10</td>\n",
       "    </tr>\n",
       "  </tbody>\n",
       "</table>\n",
       "</div>"
      ],
      "text/plain": [
       "   id                                 nombre   latitudN   longitudW  Altitud  \\\n",
       "0   1               CALVILLO, AGUASCALIENTES  21.849444 -102.712222     1618   \n",
       "1   2        PRESA 50 ANIV. , AGUASCALIENTES  22.189306 -102.464972   2063.4   \n",
       "2   3            SIERRA FRIA, AGUASCALIENTES  22.269778 -102.608778  2976.31   \n",
       "3   4  BAHÍA DE LOS ANGELES, BAJA CALIFORNIA  28.896389 -113.560278       10   \n",
       "4   5              CATAVIÑA, BAJA CALIFORNIA  29.727222 -114.719167      514   \n",
       "\n",
       "  FechaInstalacion  \n",
       "0       2004-11-15  \n",
       "1       2012-12-05  \n",
       "2       2012-12-08  \n",
       "3       2000-04-06  \n",
       "4       2004-11-10  "
      ]
     },
     "execution_count": 13,
     "metadata": {},
     "output_type": "execute_result"
    }
   ],
   "source": [
    "catalogo.head()"
   ]
  },
  {
   "cell_type": "code",
   "execution_count": 14,
   "metadata": {},
   "outputs": [],
   "source": [
    "#Se crea una ruta de conexion a la base de datos llamada clima, la cual se encuentra en el servidor DESKTOP-HQI9VLS\n",
    "#Utilizamos la autentificacion de windows para conectarnos a este.\n",
    "server = 'DESKTOP-HQI9VLS'\n",
    "database = 'clima'\n",
    "engine = sqlalchemy.create_engine('mssql+pyodbc://'+server+'/'+database+'?trusted_connection=yes&driver=SQL+Server')"
   ]
  },
  {
   "cell_type": "code",
   "execution_count": 15,
   "metadata": {},
   "outputs": [],
   "source": [
    "#importamos los tipos para no tener para facilitar su uso\n",
    "from sqlalchemy.types import VARCHAR,Float,Integer"
   ]
  },
  {
   "cell_type": "code",
   "execution_count": 17,
   "metadata": {},
   "outputs": [],
   "source": [
    "#Utilizando el metodo to_sql guardamos el contenido del DataFrame utilizando la ruta a la base de datos que se creo anteriormente\n",
    "#Solo especificamos el tipo para nombre, de lo contrario se guardara como varchar(max), los demas los guarda\n",
    "#de acuerdo con el tipo que tiene en el dataframe\n",
    "catalogo.to_sql(name='Catalogo', \n",
    "                con = engine, \n",
    "                index=False, \n",
    "                if_exists= 'replace',\n",
    "                dtype= {'nombre' : VARCHAR(length=255)})\n",
    "#Se especifica que la columna id sea NOT NULL para despues usarla como llave primaria\n",
    "with engine.connect() as con:\n",
    "    con.execute('ALTER TABLE Catalogo alter column id int NOT NULL;')\n",
    "    con.execute('ALTER TABLE Catalogo ADD PRIMARY KEY (id);')"
   ]
  },
  {
   "cell_type": "code",
   "execution_count": null,
   "metadata": {},
   "outputs": [],
   "source": []
  }
 ],
 "metadata": {
  "kernelspec": {
   "display_name": "Python 3",
   "language": "python",
   "name": "python3"
  },
  "language_info": {
   "codemirror_mode": {
    "name": "ipython",
    "version": 3
   },
   "file_extension": ".py",
   "mimetype": "text/x-python",
   "name": "python",
   "nbconvert_exporter": "python",
   "pygments_lexer": "ipython3",
   "version": "3.7.3"
  }
 },
 "nbformat": 4,
 "nbformat_minor": 2
}
