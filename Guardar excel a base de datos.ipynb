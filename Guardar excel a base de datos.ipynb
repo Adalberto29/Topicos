{
 "cells": [
  {
   "cell_type": "code",
   "execution_count": 1,
   "metadata": {},
   "outputs": [],
   "source": [
    "%config IPCompleter.greedy=True"
   ]
  },
  {
   "cell_type": "markdown",
   "metadata": {},
   "source": [
    "# Guardado de un archivo excel a una tabla"
   ]
  },
  {
   "cell_type": "markdown",
   "metadata": {},
   "source": [
    "<ul>\n",
    "    <li>Se leera un archivo de excel</li>\n",
    "    <li>Se identificara el id del nombre de la estacion. Para esto se hara una consulta a la base de datos</li>\n",
    "    <li>Se reemplaza la columna \"nombre_estacion\" por una que tendra el id correspondiente</li>\n",
    "    <li>Se guardara la tabla en la base de datos</li>\n",
    "</ul>"
   ]
  },
  {
   "cell_type": "code",
   "execution_count": 12,
   "metadata": {},
   "outputs": [],
   "source": [
    "#Bibliotecas que se usaran.\n",
    "import pandas as pd\n",
    "import glob\n",
    "import sqlalchemy"
   ]
  },
  {
   "cell_type": "code",
   "execution_count": 13,
   "metadata": {},
   "outputs": [],
   "source": [
    "#Biblioteca que se usara para hacer match entre palabras\n",
    "from fuzzywuzzy import process"
   ]
  },
  {
   "cell_type": "code",
   "execution_count": 14,
   "metadata": {},
   "outputs": [],
   "source": [
    "#Se crea una ruta de conexion a la base de datos llamada clima, la cual se encuentra en el servidor DESKTOP-HQI9VLS\n",
    "#Utilizamos la autentificacion de windows para conectarnos a este.\n",
    "server = 'DESKTOP-HQI9VLS'\n",
    "database = 'clima'\n",
    "engine = sqlalchemy.create_engine('mssql+pyodbc://'+server+'/'+database+'?trusted_connection=yes&driver=SQL+Server')"
   ]
  },
  {
   "cell_type": "code",
   "execution_count": 15,
   "metadata": {},
   "outputs": [],
   "source": [
    "#importamos los tipos para no tener para facilitar su uso\n",
    "from sqlalchemy.types import VARCHAR,Float,Integer"
   ]
  },
  {
   "cell_type": "code",
   "execution_count": 16,
   "metadata": {
    "scrolled": true
   },
   "outputs": [],
   "source": [
    "#Obtenemos las rutas de los archivos xls y creamos un dataframe para guardarlas\n",
    "\n",
    "#Esta ya no se hace\n",
    "rutas = []\n",
    "for i in glob.glob(\"Puebla/*.xls\"):\n",
    "    rutas.append(i)\n",
    "datos = {'Rutas' : rutas}\n",
    "rutas = pd.DataFrame(datos)\n",
    "rutas.to_csv(\"Rutas - faltantes.csv\")"
   ]
  },
  {
   "cell_type": "code",
   "execution_count": 19,
   "metadata": {
    "scrolled": true
   },
   "outputs": [
    {
     "data": {
      "text/html": [
       "<div>\n",
       "<style scoped>\n",
       "    .dataframe tbody tr th:only-of-type {\n",
       "        vertical-align: middle;\n",
       "    }\n",
       "\n",
       "    .dataframe tbody tr th {\n",
       "        vertical-align: top;\n",
       "    }\n",
       "\n",
       "    .dataframe thead th {\n",
       "        text-align: right;\n",
       "    }\n",
       "</style>\n",
       "<table border=\"1\" class=\"dataframe\">\n",
       "  <thead>\n",
       "    <tr style=\"text-align: right;\">\n",
       "      <th></th>\n",
       "      <th>Rutas</th>\n",
       "    </tr>\n",
       "  </thead>\n",
       "  <tbody>\n",
       "    <tr>\n",
       "      <th>0</th>\n",
       "      <td>Puebla\\huauchi ab14.xls</td>\n",
       "    </tr>\n",
       "    <tr>\n",
       "      <th>1</th>\n",
       "      <td>Puebla\\huauchi ab15.xls</td>\n",
       "    </tr>\n",
       "    <tr>\n",
       "      <th>2</th>\n",
       "      <td>Puebla\\huauchi ag14.xls</td>\n",
       "    </tr>\n",
       "    <tr>\n",
       "      <th>3</th>\n",
       "      <td>Puebla\\huauchi d14.xls</td>\n",
       "    </tr>\n",
       "    <tr>\n",
       "      <th>4</th>\n",
       "      <td>Puebla\\huauchi e13.xls</td>\n",
       "    </tr>\n",
       "  </tbody>\n",
       "</table>\n",
       "</div>"
      ],
      "text/plain": [
       "                     Rutas\n",
       "0  Puebla\\huauchi ab14.xls\n",
       "1  Puebla\\huauchi ab15.xls\n",
       "2  Puebla\\huauchi ag14.xls\n",
       "3   Puebla\\huauchi d14.xls\n",
       "4   Puebla\\huauchi e13.xls"
      ]
     },
     "execution_count": 19,
     "metadata": {},
     "output_type": "execute_result"
    }
   ],
   "source": [
    "#Leemos el archivo de rutas que faltan por agregar a la base de datos\n",
    "rutas = pd.read_csv(\"Rutas - faltantes.csv\")\n",
    "rutas = rutas.drop(['Unnamed: 0'], axis=1)\n",
    "rutas.head()"
   ]
  },
  {
   "cell_type": "code",
   "execution_count": 20,
   "metadata": {},
   "outputs": [],
   "source": [
    "#Leemos el archivo de rutas que faltan por agregar a la base de datos\n",
    "rutas = pd.read_csv(\"Rutas - faltantes.csv\")\n",
    "rutas = rutas.drop(['Unnamed: 0'], axis=1)\n",
    "#Obtenemos la primera ruta y lo eliminamos del DF\n",
    "r = rutas['Rutas'][0]\n",
    "rutas = rutas.drop(0, axis=0)\n",
    "#Se obitiene el catalogo\n",
    "catalogo = pd.read_sql(\"SELECT id,nombre from CatalogoCorto\", con=engine)\n",
    "#Se pasa a una lista los nombres de las estaciones del catalogo\n",
    "listaNombres = catalogo['nombre'].values\n",
    "#Se abre el archivo de la ruta r\n",
    "datos = pd.read_excel(r)\n",
    "#Obtenemos el nombre de la estacion\n",
    "nombreEstacion = datos[\"nombre_estacion\"][0]\n",
    "#Buscamos la palabra(de listaNombres) con mas similitud a nombreEstacion y la guardamos en masALto\n",
    "masAlto, porcentaje = process.extractOne(nombreEstacion,listaNombres)\n",
    "#Consultamos su id y obtenemos su valor\n",
    "identificador = (catalogo[catalogo['nombre']==masAlto])['id'].values[0]\n",
    "#Creamos una columna id_estado donde guardaremos la variable identificador\n",
    "datos['id_estado'] = datos['nombre_estacion'].map(lambda x: identificador)\n",
    "#Eliminamos la columna nombre estacion\n",
    "datos = datos.drop(['nombre_estacion'], axis=1)\n",
    "#Ordenamos las columnas\n",
    "columnasOrdenadas = ['id_estado','fecha', 'DirViento', 'DirRafaga', 'RapViento', 'RapRafaga','TempAire', \n",
    "                     'HumRelativa', 'PresBarometric', 'Precipitacion', 'RadSolar']\n",
    "guardar = pd.DataFrame()\n",
    "guardar[columnasOrdenadas] = datos[columnasOrdenadas]\n",
    "#Guardamos a la base de datos\n",
    "guardar.to_sql(name='Datos', con = engine, index=False, if_exists= 'append')\n",
    "\n",
    "\n",
    "#Se guardan las rutas que faltan por agregar\n",
    "rutas.to_csv(\"Rutas - faltantes.csv\")\n",
    "\n",
    "#Si se quiere solo seleccionar algunas columnas para guardarlas en la base de datos se escifican en colBase\n",
    "#Y el nombre en el archivo de excel en colExcel\n",
    "#guardar = pd.DataFrame()\n",
    "#guardar['id_estado'] = datos['nombre_estacion'].map(lambda x: identificador)\n",
    "#colBase = ['Temperatura','Precipitacion','Humedad']\n",
    "#colExcel = ['TempAire','Precipitacion','HumRelativa']\n",
    "#guardar[colBase] = datos[colExcel]\n",
    "\n"
   ]
  },
  {
   "cell_type": "code",
   "execution_count": null,
   "metadata": {},
   "outputs": [],
   "source": []
  }
 ],
 "metadata": {
  "kernelspec": {
   "display_name": "Python 3",
   "language": "python",
   "name": "python3"
  },
  "language_info": {
   "codemirror_mode": {
    "name": "ipython",
    "version": 3
   },
   "file_extension": ".py",
   "mimetype": "text/x-python",
   "name": "python",
   "nbconvert_exporter": "python",
   "pygments_lexer": "ipython3",
   "version": "3.7.3"
  }
 },
 "nbformat": 4,
 "nbformat_minor": 2
}
